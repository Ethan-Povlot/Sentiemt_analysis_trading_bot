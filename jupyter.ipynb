{
 "cells": [
  {
   "cell_type": "code",
   "execution_count": 14,
   "metadata": {},
   "outputs": [
    {
     "name": "stdout",
     "output_type": "stream",
     "text": [
      "ATLANTIC\n",
      "ADDITION TO THE INDUSTRY AS SH\n",
      "THE STREETS TALKING\n",
      "PERFORMING \"I GOT IT,\" MAKE SOM\n",
      "PERFORMING \"I GOT IT,\" MAKE SOM\n"
     ]
    },
    {
     "ename": "KeyboardInterrupt",
     "evalue": "",
     "output_type": "error",
     "traceback": [
      "\u001b[1;31m---------------------------------------------------------------------------\u001b[0m",
      "\u001b[1;31mKeyboardInterrupt\u001b[0m                         Traceback (most recent call last)",
      "\u001b[1;32m~\\AppData\\Local\\Temp/ipykernel_23416/3172243540.py\u001b[0m in \u001b[0;36m<module>\u001b[1;34m\u001b[0m\n\u001b[0;32m     12\u001b[0m     \u001b[0mkeyboard\u001b[0m\u001b[1;33m.\u001b[0m\u001b[0mpress_and_release\u001b[0m\u001b[1;33m(\u001b[0m\u001b[1;34m'enter'\u001b[0m\u001b[1;33m)\u001b[0m\u001b[1;33m\u001b[0m\u001b[1;33m\u001b[0m\u001b[0m\n\u001b[0;32m     13\u001b[0m     \u001b[0msleep\u001b[0m\u001b[1;33m(\u001b[0m\u001b[1;36m4\u001b[0m\u001b[1;33m)\u001b[0m\u001b[1;33m\u001b[0m\u001b[1;33m\u001b[0m\u001b[0m\n\u001b[1;32m---> 14\u001b[1;33m     \u001b[0mf\u001b[0m \u001b[1;33m=\u001b[0m  \u001b[0mopen\u001b[0m\u001b[1;33m(\u001b[0m\u001b[1;34mr\"C:\\Users\\ethan\\Downloads\\Home - YouTube TV.html\"\u001b[0m\u001b[1;33m,\u001b[0m \u001b[1;34m\"r\"\u001b[0m\u001b[1;33m,\u001b[0m \u001b[0mencoding\u001b[0m\u001b[1;33m=\u001b[0m\u001b[1;34m'utf-8-sig'\u001b[0m\u001b[1;33m)\u001b[0m\u001b[1;33m\u001b[0m\u001b[1;33m\u001b[0m\u001b[0m\n\u001b[0m\u001b[0;32m     15\u001b[0m     \u001b[0mf\u001b[0m \u001b[1;33m=\u001b[0m \u001b[0mf\u001b[0m\u001b[1;33m.\u001b[0m\u001b[0mread\u001b[0m\u001b[1;33m(\u001b[0m\u001b[1;33m)\u001b[0m\u001b[1;31m#<span class=\"ytp-caption-segment\"\u001b[0m\u001b[1;33m\u001b[0m\u001b[1;33m\u001b[0m\u001b[0m\n\u001b[0;32m     16\u001b[0m     \u001b[0mp1\u001b[0m \u001b[1;33m=\u001b[0m \u001b[0mf\u001b[0m\u001b[1;33m.\u001b[0m\u001b[0mfind\u001b[0m\u001b[1;33m(\u001b[0m\u001b[1;34m'span class=\"ytp-caption-segment'\u001b[0m\u001b[1;33m)\u001b[0m\u001b[1;33m\u001b[0m\u001b[1;33m\u001b[0m\u001b[0m\n",
      "\u001b[1;32mC:\\Program Files\\WindowsApps\\PythonSoftwareFoundation.Python.3.8_3.8.2800.0_x64__qbz5n2kfra8p0\\lib\\encodings\\utf_8_sig.py\u001b[0m in \u001b[0;36m__init__\u001b[1;34m(self, errors)\u001b[0m\n\u001b[0;32m     48\u001b[0m \u001b[1;33m\u001b[0m\u001b[0m\n\u001b[0;32m     49\u001b[0m \u001b[1;32mclass\u001b[0m \u001b[0mIncrementalDecoder\u001b[0m\u001b[1;33m(\u001b[0m\u001b[0mcodecs\u001b[0m\u001b[1;33m.\u001b[0m\u001b[0mBufferedIncrementalDecoder\u001b[0m\u001b[1;33m)\u001b[0m\u001b[1;33m:\u001b[0m\u001b[1;33m\u001b[0m\u001b[1;33m\u001b[0m\u001b[0m\n\u001b[1;32m---> 50\u001b[1;33m     \u001b[1;32mdef\u001b[0m \u001b[0m__init__\u001b[0m\u001b[1;33m(\u001b[0m\u001b[0mself\u001b[0m\u001b[1;33m,\u001b[0m \u001b[0merrors\u001b[0m\u001b[1;33m=\u001b[0m\u001b[1;34m'strict'\u001b[0m\u001b[1;33m)\u001b[0m\u001b[1;33m:\u001b[0m\u001b[1;33m\u001b[0m\u001b[1;33m\u001b[0m\u001b[0m\n\u001b[0m\u001b[0;32m     51\u001b[0m         \u001b[0mcodecs\u001b[0m\u001b[1;33m.\u001b[0m\u001b[0mBufferedIncrementalDecoder\u001b[0m\u001b[1;33m.\u001b[0m\u001b[0m__init__\u001b[0m\u001b[1;33m(\u001b[0m\u001b[0mself\u001b[0m\u001b[1;33m,\u001b[0m \u001b[0merrors\u001b[0m\u001b[1;33m)\u001b[0m\u001b[1;33m\u001b[0m\u001b[1;33m\u001b[0m\u001b[0m\n\u001b[0;32m     52\u001b[0m         \u001b[0mself\u001b[0m\u001b[1;33m.\u001b[0m\u001b[0mfirst\u001b[0m \u001b[1;33m=\u001b[0m \u001b[1;36m1\u001b[0m\u001b[1;33m\u001b[0m\u001b[1;33m\u001b[0m\u001b[0m\n",
      "\u001b[1;31mKeyboardInterrupt\u001b[0m: "
     ]
    }
   ],
   "source": [
    "# Using Keyboard module in Python will have to use this in the end\n",
    "import keyboard\n",
    "from time import sleep\n",
    "sleep(3)\n",
    "while True:\n",
    "    # It writes the keys r, k and endofline\n",
    "             \n",
    "    keyboard.press_and_release('ctrl + s')\n",
    "    sleep(.5)\n",
    "    keyboard.press_and_release('enter')\n",
    "    keyboard.press_and_release('tab')\n",
    "    keyboard.press_and_release('enter')\n",
    "    sleep(4)\n",
    "    f =  open(r\"C:\\Users\\ethan\\Downloads\\Home - YouTube TV.html\", \"r\", encoding='utf-8-sig')\n",
    "    f = f.read()#<span class=\"ytp-caption-segment\"\n",
    "    p1 = f.find('span class=\"ytp-caption-segment')\n",
    "   \n",
    "\n",
    "    f1= f[p1:p1+2000]\n",
    "    p3 = f1.find(\">\")\n",
    "    p4 = f1.find(\"<\")\n",
    "    f1 = f1[p3+1:p4-1]\n",
    "    #   \n",
    "    print(f1)\n",
    "    \n",
    "    c = ['</span>','<span class=\"caption-visual-line\"',' style=\"display: block;\">','<span class=\"ytp-caption-segment\"',' style=\"display: inline-block;',' white-space: pre-wrap; background:',' rgba(8, 8, 8, 0.75); font-size: 61.8667px; ',  \n",
    "         'color: rgb(255, 255, 255);',' fill: rgb(255, 255, 255); font-family:',' &quot;YouTube Noto&quot;,',' Roboto, &quot;Arial Unicode Ms&quot;,',' Arial, Helvetica, Verdana, &quot;PT Sans Caption&quot;,',' sans-serif;\">']\n",
    "    for d in c:\n",
    "        a = a.replace('', '')\n",
    "\n",
    "    \n"
   ]
  },
  {
   "cell_type": "code",
   "execution_count": 2,
   "id": "b7de4fdd",
   "metadata": {},
   "outputs": [
    {
     "name": "stdout",
     "output_type": "stream",
     "text": [
      "market price  737.12\n",
      "previous close price  705.21\n"
     ]
    }
   ],
   "source": [
    "import yfinance as yf\n",
    "stock_info = yf.Ticker('TSLA').info\n",
    "# stock_info.keys() for other properties you can explore\n",
    "market_price = stock_info['regularMarketPrice']\n",
    "previous_close_price = stock_info['regularMarketPreviousClose']\n",
    "print('market price ', market_price)\n",
    "print('previous close price ', previous_close_price)"
   ]
  },
  {
   "cell_type": "code",
   "execution_count": null,
   "id": "e552394d",
   "metadata": {},
   "outputs": [],
   "source": []
  },
  {
   "cell_type": "code",
   "execution_count": null,
   "id": "bc6b8c47",
   "metadata": {},
   "outputs": [],
   "source": []
  },
  {
   "cell_type": "code",
   "execution_count": 56,
   "id": "cc387d38",
   "metadata": {},
   "outputs": [],
   "source": [
    "#from selenium import webdriver\n",
    "#from selenium.webdriver.common.by import By\n",
    "#from selenium.common.exceptions import NoSuchElementException\n",
    "#from selenium.common.exceptions import StaleElementReferenceException\n",
    "#\n",
    "#driver = webdriver.Chrome(executable_path =r\"C:\\Users\\ethan\\chromedriver.exe\")\n",
    "#\n",
    "#website_URL =\"https://www.youtube.com/watch?v=dp8PhLsUcFE\"\n",
    "#ignored_exceptions=(NoSuchElementException,StaleElementReferenceException)\n",
    "##website_URL = \"https://www.youtube.com/watch?v=CNgOqNNWLQ4\"\n",
    "#driver.get(website_URL)#, ignored_exceptions= ignored_exceptions)\n",
    "#sleep(1)\n",
    "#keyboard.press_and_release(\"c\")\n",
    "#sleep(1)\n",
    "##keyboard.press_and_release('c')\n",
    "#sleep(3)\n",
    "#\n",
    "#a = \"caption-window-_2\"\n",
    "#id = driver.find_element(By.CLASS_NAME, a)\n",
    "#i = 0\n",
    "#while i < 10:\n",
    "#    try:\n",
    "#        print(id.text)\n",
    "#    except:\n",
    "#        sleep(1)\n",
    "#        print(\"A\")\n",
    "#        print(id.text)\n",
    "#    sleep(3)\n",
    "#    i+=1\n",
    "#"
   ]
  },
  {
   "cell_type": "code",
   "execution_count": 35,
   "id": "1843d298",
   "metadata": {},
   "outputs": [],
   "source": [
    "#from selenium import webdriver\n",
    "#\n",
    "#driver = webdriver.Chrome(executable_path =r\"C:\\Users\\ethan\\chromedriver.exe\")\n",
    "#\n",
    "## enter keyword to search\n",
    "#keyword = \"geeksforgeeks\"\n",
    "# \n",
    "## get geeksforgeeks.org\n",
    "#driver.get(\"https://www.geeksforgeeks.org\")\n",
    "#sleep(10)\n",
    "## get element\n",
    "#element = driver.find_element_by_link_text(\"Courses\")\n",
    "# \n",
    "## get href attribute\n",
    "#print(element.get_attribute('href'))"
   ]
  },
  {
   "cell_type": "code",
   "execution_count": null,
   "metadata": {},
   "outputs": [],
   "source": []
  },
  {
   "cell_type": "code",
   "execution_count": null,
   "metadata": {},
   "outputs": [],
   "source": []
  },
  {
   "cell_type": "code",
   "execution_count": null,
   "id": "109fd15b",
   "metadata": {},
   "outputs": [],
   "source": []
  },
  {
   "cell_type": "code",
   "execution_count": null,
   "id": "29b334b1",
   "metadata": {},
   "outputs": [],
   "source": []
  },
  {
   "cell_type": "code",
   "execution_count": null,
   "id": "b56f34c7",
   "metadata": {},
   "outputs": [],
   "source": [
    "from youtube_transcript_api import YouTubeTranscriptApi\n",
    "\n",
    "YouTubeTranscriptApi.get_transcript(video_id)"
   ]
  }
 ],
 "metadata": {
  "kernelspec": {
   "display_name": "Python 3.8.10 64-bit (windows store)",
   "language": "python",
   "name": "python3"
  },
  "language_info": {
   "codemirror_mode": {
    "name": "ipython",
    "version": 3
   },
   "file_extension": ".py",
   "mimetype": "text/x-python",
   "name": "python",
   "nbconvert_exporter": "python",
   "pygments_lexer": "ipython3",
   "version": "3.8.10"
  },
  "vscode": {
   "interpreter": {
    "hash": "4a7c2fc3b637f3924af90fe6f44c03be9573cacf9236e6bc10af6188baf9e463"
   }
  }
 },
 "nbformat": 4,
 "nbformat_minor": 5
}
